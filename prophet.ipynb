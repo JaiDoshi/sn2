{
 "cells": [
  {
   "cell_type": "code",
   "execution_count": 7,
   "metadata": {},
   "outputs": [],
   "source": [
    "import os\n",
    "import pandas as pd\n",
    "import numpy as np\n",
    "from datetime import datetime\n",
    "# Plotting\n",
    "import matplotlib.pyplot as plt\n",
    "import seaborn as sns\n",
    "from prophet import Prophet\n",
    "from sklearn.metrics import mean_absolute_error\n",
    "from tqdm import tqdm\n",
    "\n",
    "pd.set_option('display.max_columns', None)\n",
    "\n",
    "import warnings\n",
    "import logging\n",
    "warnings.filterwarnings('ignore')\n",
    "%matplotlib inline"
   ]
  },
  {
   "cell_type": "code",
   "execution_count": 8,
   "metadata": {},
   "outputs": [],
   "source": [
    "logging.getLogger(\"cmdstanpy\").disabled = True #  turn 'cmdstanpy' logs off"
   ]
  },
  {
   "cell_type": "code",
   "execution_count": 9,
   "metadata": {},
   "outputs": [],
   "source": [
    "price_df_dict = {}\n",
    "dir_path = 'price/raw'\n",
    "for filename in os.listdir(dir_path):\n",
    "    file_path = os.path.join(dir_path, filename)\n",
    "\n",
    "    key = os.path.splitext(filename)[0]\n",
    "    price_df_dict[key] = pd.read_csv(file_path)"
   ]
  },
  {
   "cell_type": "code",
   "execution_count": 10,
   "metadata": {},
   "outputs": [
    {
     "data": {
      "text/plain": [
       "dict_keys(['EQIX', 'TM', 'V', 'BAC', 'SHEL', 'PEP', 'LLY', 'COST', 'VALE', 'D', 'TSM', 'UNP', 'ABBV', 'AMT', 'PG', 'CAT', 'AMZN', 'CCI', 'KO', 'NEE', 'UPS', 'MSFT', 'SHW', 'NVDA', 'HD', 'SO', 'XOM', 'CVX', 'CMCSA', 'PLD', 'BHP', 'DIS', 'TTE', 'JPM', 'TSLA', 'COP', 'META', 'GOOG', 'PFE', 'AVGO', 'DUK', 'VZ', 'BABA', 'UNH', 'MA', 'HON', 'BRK-A', 'AAPL', 'APD', 'WMT', 'LMT', 'RIO', 'PSA', 'AEP', 'JNJ'])"
      ]
     },
     "execution_count": 10,
     "metadata": {},
     "output_type": "execute_result"
    }
   ],
   "source": [
    "price_df_dict.keys()"
   ]
  },
  {
   "cell_type": "code",
   "execution_count": 11,
   "metadata": {},
   "outputs": [],
   "source": [
    "# CREATE A DATAFRAM FOR EACH COMPANY from this dictionary\n",
    "# For now, create a dataframe for AAPL\n",
    "stock_df = price_df_dict['AAPL']\n"
   ]
  },
  {
   "cell_type": "code",
   "execution_count": 12,
   "metadata": {},
   "outputs": [
    {
     "data": {
      "text/html": [
       "<div>\n",
       "<style scoped>\n",
       "    .dataframe tbody tr th:only-of-type {\n",
       "        vertical-align: middle;\n",
       "    }\n",
       "\n",
       "    .dataframe tbody tr th {\n",
       "        vertical-align: top;\n",
       "    }\n",
       "\n",
       "    .dataframe thead th {\n",
       "        text-align: right;\n",
       "    }\n",
       "</style>\n",
       "<table border=\"1\" class=\"dataframe\">\n",
       "  <thead>\n",
       "    <tr style=\"text-align: right;\">\n",
       "      <th></th>\n",
       "      <th>Date</th>\n",
       "      <th>Open</th>\n",
       "      <th>High</th>\n",
       "      <th>Low</th>\n",
       "      <th>Close</th>\n",
       "      <th>Adj Close</th>\n",
       "      <th>Volume</th>\n",
       "    </tr>\n",
       "  </thead>\n",
       "  <tbody>\n",
       "    <tr>\n",
       "      <th>0</th>\n",
       "      <td>2019-12-31</td>\n",
       "      <td>72.482498</td>\n",
       "      <td>73.419998</td>\n",
       "      <td>72.379997</td>\n",
       "      <td>73.412498</td>\n",
       "      <td>72.552094</td>\n",
       "      <td>100805600</td>\n",
       "    </tr>\n",
       "    <tr>\n",
       "      <th>1</th>\n",
       "      <td>2020-01-02</td>\n",
       "      <td>74.059998</td>\n",
       "      <td>75.150002</td>\n",
       "      <td>73.797501</td>\n",
       "      <td>75.087502</td>\n",
       "      <td>74.207466</td>\n",
       "      <td>135480400</td>\n",
       "    </tr>\n",
       "    <tr>\n",
       "      <th>2</th>\n",
       "      <td>2020-01-03</td>\n",
       "      <td>74.287498</td>\n",
       "      <td>75.144997</td>\n",
       "      <td>74.125000</td>\n",
       "      <td>74.357498</td>\n",
       "      <td>73.486023</td>\n",
       "      <td>146322800</td>\n",
       "    </tr>\n",
       "    <tr>\n",
       "      <th>3</th>\n",
       "      <td>2020-01-06</td>\n",
       "      <td>73.447502</td>\n",
       "      <td>74.989998</td>\n",
       "      <td>73.187500</td>\n",
       "      <td>74.949997</td>\n",
       "      <td>74.071579</td>\n",
       "      <td>118387200</td>\n",
       "    </tr>\n",
       "    <tr>\n",
       "      <th>4</th>\n",
       "      <td>2020-01-07</td>\n",
       "      <td>74.959999</td>\n",
       "      <td>75.224998</td>\n",
       "      <td>74.370003</td>\n",
       "      <td>74.597504</td>\n",
       "      <td>73.723213</td>\n",
       "      <td>108872000</td>\n",
       "    </tr>\n",
       "  </tbody>\n",
       "</table>\n",
       "</div>"
      ],
      "text/plain": [
       "         Date       Open       High        Low      Close  Adj Close  \\\n",
       "0  2019-12-31  72.482498  73.419998  72.379997  73.412498  72.552094   \n",
       "1  2020-01-02  74.059998  75.150002  73.797501  75.087502  74.207466   \n",
       "2  2020-01-03  74.287498  75.144997  74.125000  74.357498  73.486023   \n",
       "3  2020-01-06  73.447502  74.989998  73.187500  74.949997  74.071579   \n",
       "4  2020-01-07  74.959999  75.224998  74.370003  74.597504  73.723213   \n",
       "\n",
       "      Volume  \n",
       "0  100805600  \n",
       "1  135480400  \n",
       "2  146322800  \n",
       "3  118387200  \n",
       "4  108872000  "
      ]
     },
     "execution_count": 12,
     "metadata": {},
     "output_type": "execute_result"
    }
   ],
   "source": [
    "stock_df.head()"
   ]
  },
  {
   "cell_type": "code",
   "execution_count": 13,
   "metadata": {},
   "outputs": [],
   "source": [
    "def prepare_prophet_data(df, end_idx):\n",
    "    \"\"\"\n",
    "    Prepare data for Prophet using data up to end_idx\n",
    "    Keeps original column names intact\n",
    "    \"\"\"\n",
    "    prophet_df = pd.DataFrame()\n",
    "    prophet_df['ds'] = pd.to_datetime(df['Date'][:end_idx])\n",
    "    prophet_df['y'] = df['Adj Close'][:end_idx]\n",
    "    \n",
    "    # Add additional features as regressors\n",
    "    prophet_df['Open'] = df['Open'][:end_idx]\n",
    "    prophet_df['Close'] = df['Close'][:end_idx]\n",
    "    prophet_df['High'] = df['High'][:end_idx]\n",
    "    prophet_df['Low'] = df['Low'][:end_idx]\n",
    "    prophet_df['Volume'] = df['Volume'][:end_idx]\n",
    "    \n",
    "    \n",
    "    return prophet_df"
   ]
  },
  {
   "cell_type": "code",
   "execution_count": 14,
   "metadata": {},
   "outputs": [
    {
     "data": {
      "text/html": [
       "<div>\n",
       "<style scoped>\n",
       "    .dataframe tbody tr th:only-of-type {\n",
       "        vertical-align: middle;\n",
       "    }\n",
       "\n",
       "    .dataframe tbody tr th {\n",
       "        vertical-align: top;\n",
       "    }\n",
       "\n",
       "    .dataframe thead th {\n",
       "        text-align: right;\n",
       "    }\n",
       "</style>\n",
       "<table border=\"1\" class=\"dataframe\">\n",
       "  <thead>\n",
       "    <tr style=\"text-align: right;\">\n",
       "      <th></th>\n",
       "      <th>ds</th>\n",
       "      <th>y</th>\n",
       "      <th>Open</th>\n",
       "      <th>Close</th>\n",
       "      <th>High</th>\n",
       "      <th>Low</th>\n",
       "      <th>Volume</th>\n",
       "    </tr>\n",
       "  </thead>\n",
       "  <tbody>\n",
       "    <tr>\n",
       "      <th>0</th>\n",
       "      <td>2019-12-31</td>\n",
       "      <td>72.552094</td>\n",
       "      <td>72.482498</td>\n",
       "      <td>73.412498</td>\n",
       "      <td>73.419998</td>\n",
       "      <td>72.379997</td>\n",
       "      <td>100805600</td>\n",
       "    </tr>\n",
       "    <tr>\n",
       "      <th>1</th>\n",
       "      <td>2020-01-02</td>\n",
       "      <td>74.207466</td>\n",
       "      <td>74.059998</td>\n",
       "      <td>75.087502</td>\n",
       "      <td>75.150002</td>\n",
       "      <td>73.797501</td>\n",
       "      <td>135480400</td>\n",
       "    </tr>\n",
       "    <tr>\n",
       "      <th>2</th>\n",
       "      <td>2020-01-03</td>\n",
       "      <td>73.486023</td>\n",
       "      <td>74.287498</td>\n",
       "      <td>74.357498</td>\n",
       "      <td>75.144997</td>\n",
       "      <td>74.125000</td>\n",
       "      <td>146322800</td>\n",
       "    </tr>\n",
       "    <tr>\n",
       "      <th>3</th>\n",
       "      <td>2020-01-06</td>\n",
       "      <td>74.071579</td>\n",
       "      <td>73.447502</td>\n",
       "      <td>74.949997</td>\n",
       "      <td>74.989998</td>\n",
       "      <td>73.187500</td>\n",
       "      <td>118387200</td>\n",
       "    </tr>\n",
       "    <tr>\n",
       "      <th>4</th>\n",
       "      <td>2020-01-07</td>\n",
       "      <td>73.723213</td>\n",
       "      <td>74.959999</td>\n",
       "      <td>74.597504</td>\n",
       "      <td>75.224998</td>\n",
       "      <td>74.370003</td>\n",
       "      <td>108872000</td>\n",
       "    </tr>\n",
       "  </tbody>\n",
       "</table>\n",
       "</div>"
      ],
      "text/plain": [
       "          ds          y       Open      Close       High        Low     Volume\n",
       "0 2019-12-31  72.552094  72.482498  73.412498  73.419998  72.379997  100805600\n",
       "1 2020-01-02  74.207466  74.059998  75.087502  75.150002  73.797501  135480400\n",
       "2 2020-01-03  73.486023  74.287498  74.357498  75.144997  74.125000  146322800\n",
       "3 2020-01-06  74.071579  73.447502  74.949997  74.989998  73.187500  118387200\n",
       "4 2020-01-07  73.723213  74.959999  74.597504  75.224998  74.370003  108872000"
      ]
     },
     "execution_count": 14,
     "metadata": {},
     "output_type": "execute_result"
    }
   ],
   "source": [
    "prophet_df = prepare_prophet_data(stock_df, -1)\n",
    "prophet_df.head()"
   ]
  },
  {
   "cell_type": "code",
   "execution_count": 15,
   "metadata": {},
   "outputs": [],
   "source": [
    "def make_single_prediction(historical_data, current_row, change_point_prior_scale=0.05):\n",
    "    \"\"\"Make a single prediction using Prophet for the next day\"\"\"\n",
    "    # Prepare Prophet model\n",
    "    model = Prophet(\n",
    "        weekly_seasonality=True,\n",
    "        yearly_seasonality=True,\n",
    "        changepoint_prior_scale=change_point_prior_scale\n",
    "    )\n",
    "    model.add_country_holidays(country_name='US')\n",
    "    # print(f\"Length of historical data: {len(historical_data)}\")\n",
    "\n",
    "    # Add additional regressors\n",
    "    # model.add_regressor('Close')\n",
    "    # model.add_regressor('High')\n",
    "    # model.add_regressor('Low')\n",
    "    # model.add_regressor('Volume')\n",
    "    # model.add_regressor('Adj Close')\n",
    "    \n",
    "    # Fit model on historical data\n",
    "    model.fit(historical_data)\n",
    "    \n",
    "    # Create future dataframe for just the next day, with the last day being current row date\n",
    "    future = model.make_future_dataframe(periods=1)\n",
    "    #Make last ds of future date as date from current row\n",
    "    future['ds'].iloc[-1] = current_row['Date']\n",
    "    \n",
    "\n",
    "    # Add regressor values for the prediction day\n",
    "    # future['Close'] = current_row['Close']\n",
    "    # future['High'] = current_row['High']\n",
    "    # future['Low'] = current_row['Low']\n",
    "    # future['Volume'] = current_row['Volume']\n",
    "    # future['Adj Close'] = current_row['Adj Close']\n",
    "\n",
    "    # Make prediction\n",
    "    forecast = model.predict(future)\n",
    "    # print(forecast[['ds', 'yhat', 'yhat_lower', 'yhat_upper']].tail())\n",
    "    # Return only the last prediction\n",
    "    return forecast.iloc[-1]['yhat']"
   ]
  },
  {
   "cell_type": "code",
   "execution_count": 16,
   "metadata": {},
   "outputs": [],
   "source": [
    "def create_rolling_predictions(df, initial_training_days=7, change_point_prior_scale=0.05):\n",
    "    \"\"\"\n",
    "    Create rolling predictions where each prediction only uses data available before that day\n",
    "    \n",
    "    Parameters:\n",
    "    df: DataFrame with Date, Open, High, Low, Close, 'Adj Close', Volume\n",
    "    initial_training_days: Number of days to use for initial training\n",
    "    \n",
    "    Returns:\n",
    "    DataFrame with all original columns plus predicted prices\n",
    "    \"\"\"\n",
    "    # Create a copy of the original dataframe\n",
    "    result_df = df.copy()\n",
    "    \n",
    "    # Add a column for Prophet predictions (initially NaN)\n",
    "    result_df['prophet_predicted_price'] = np.nan\n",
    "    \n",
    "    # Create predictions for each day after the initial training period\n",
    "    print(\"Generating rolling predictions...\")\n",
    "    \n",
    "    for i in tqdm(range(initial_training_days, len(df))):\n",
    "        try:\n",
    "            # Prepare historical data up to current day\n",
    "            historical_data = prepare_prophet_data(df, i)\n",
    "            \n",
    "            # Get current day's data for regressors\n",
    "            current_row = df.iloc[i]\n",
    "            # print(f\"Current row: \\n{current_row}\")\n",
    "            # Make prediction for the current day\n",
    "            prediction = make_single_prediction(historical_data, current_row, change_point_prior_scale)\n",
    "            \n",
    "            # Store the prediction\n",
    "            result_df.iloc[i, result_df.columns.get_loc('prophet_predicted_price')] = prediction\n",
    "            \n",
    "        except Exception as e:\n",
    "            print(f\"Error making prediction for day {i}: {e}\")\n",
    "            continue\n",
    "     \n",
    "    # Calculate prediction error metrics where we have both actual and predicted values\n",
    "    mask = result_df['prophet_predicted_price'].notna()\n",
    "    # print(mask)\n",
    "    if mask.any():\n",
    "        mae = np.mean(np.abs(result_df.loc[mask, 'Open'] - result_df.loc[mask, 'prophet_predicted_price']))\n",
    "        mape = np.mean(np.abs((result_df.loc[mask, 'Open'] - result_df.loc[mask, 'prophet_predicted_price']) / result_df.loc[mask, 'Open'])) * 100\n",
    "        rmse = np.sqrt(np.mean((result_df.loc[mask, 'Open'] - result_df.loc[mask, 'prophet_predicted_price'])**2))\n",
    "\n",
    "    print(\"\\nModel Performance Metrics:\")\n",
    "    print(f\"############ MAE: ${mae:.2f}\")\n",
    "    print(f\"############ MAPE: {mape:.2f}%\")\n",
    "    print(f\"############ RMSE: ${rmse:.2f}\")\n",
    "    return result_df"
   ]
  },
  {
   "cell_type": "code",
   "execution_count": 17,
   "metadata": {},
   "outputs": [],
   "source": [
    "# change_point_prior_scales = [0.01, 0.025, 0.05, 0.1, 0.5, 1]\n",
    "# for scale in change_point_prior_scales:\n",
    "#     print(f\"Change Point Prior Scale: {scale}\")\n",
    "#     result_df = create_rolling_predictions(stock_df, initial_training_days=7, change_point_prior_scale=scale)\n",
    "#     print(\"\\n\\n\")\n",
    "# result_df = create_rolling_predictions(stock_df, initial_training_days=7, change_point_prior_scale=0.05)"
   ]
  },
  {
   "cell_type": "code",
   "execution_count": 18,
   "metadata": {},
   "outputs": [
    {
     "name": "stdout",
     "output_type": "stream",
     "text": [
      "Generating rolling predictions...\n"
     ]
    },
    {
     "name": "stderr",
     "output_type": "stream",
     "text": [
      " 65%|██████▍   | 472/729 [01:28<01:23,  3.07it/s]"
     ]
    }
   ],
   "source": [
    "result_df = create_rolling_predictions(stock_df, initial_training_days=28, change_point_prior_scale=0.1)"
   ]
  },
  {
   "cell_type": "code",
   "execution_count": null,
   "metadata": {},
   "outputs": [],
   "source": [
    "#Write df to csv\n",
    "result_df.to_csv('price/raw_with_prophet_adj/AAPL_prophet_predictions.csv', index=False)"
   ]
  },
  {
   "cell_type": "code",
   "execution_count": null,
   "metadata": {},
   "outputs": [],
   "source": [
    "stock = 'KO'\n",
    "result_df = create_rolling_predictions(price_df_dict[stock], initial_training_days=28, change_point_prior_scale=0.1)\n",
    "result_df.to_csv(f'price/raw_with_prophet_adj/{stock}_prophet_predictions.csv', index=False)\n",
    "\n"
   ]
  },
  {
   "cell_type": "code",
   "execution_count": null,
   "metadata": {},
   "outputs": [],
   "source": [
    "stock = 'TSLA'\n",
    "result_df = create_rolling_predictions(price_df_dict[stock], initial_training_days=28, change_point_prior_scale=0.1)\n",
    "result_df.to_csv(f'price/raw_with_prophet_adj/{stock}_prophet_predictions.csv', index=False)"
   ]
  },
  {
   "cell_type": "code",
   "execution_count": null,
   "metadata": {},
   "outputs": [],
   "source": [
    "stock = 'V'\n",
    "result_df = create_rolling_predictions(price_df_dict[stock], initial_training_days=28, change_point_prior_scale=0.1)\n",
    "result_df.to_csv(f'price/raw_with_prophet_adj/{stock}_prophet_predictions.csv', index=False)"
   ]
  },
  {
   "cell_type": "code",
   "execution_count": null,
   "metadata": {},
   "outputs": [],
   "source": [
    "stock = 'XOM'\n",
    "result_df = create_rolling_predictions(price_df_dict[stock], initial_training_days=28, change_point_prior_scale=0.1)\n",
    "result_df.to_csv(f'price/raw_with_prophet_adj/{stock}_prophet_predictions.csv', index=False)"
   ]
  },
  {
   "cell_type": "code",
   "execution_count": null,
   "metadata": {},
   "outputs": [],
   "source": []
  }
 ],
 "metadata": {
  "kernelspec": {
   "display_name": "Python (capstone_env)",
   "language": "python",
   "name": "capstone_env"
  },
  "language_info": {
   "codemirror_mode": {
    "name": "ipython",
    "version": 3
   },
   "file_extension": ".py",
   "mimetype": "text/x-python",
   "name": "python",
   "nbconvert_exporter": "python",
   "pygments_lexer": "ipython3",
   "version": "3.12.7"
  }
 },
 "nbformat": 4,
 "nbformat_minor": 2
}
