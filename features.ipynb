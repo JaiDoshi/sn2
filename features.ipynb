{
 "cells": [
  {
   "cell_type": "code",
   "execution_count": 2,
   "metadata": {},
   "outputs": [],
   "source": [
    "import pandas as pd\n",
    "import numpy as np\n",
    "import os"
   ]
  },
  {
   "cell_type": "markdown",
   "metadata": {},
   "source": [
    "## Features"
   ]
  },
  {
   "cell_type": "code",
   "execution_count": 2,
   "metadata": {},
   "outputs": [],
   "source": [
    "def calculate_technical_indicators(df, close_col='close', high_col='high', low_col='low', volume_col='volume'):\n",
    "    \"\"\"\n",
    "    Calculate technical indicators for stock price analysis.\n",
    "    \n",
    "    Parameters:\n",
    "    df (pandas.DataFrame): DataFrame with columns for close, high, low, and volume\n",
    "    close_col (str): Name of closing price column\n",
    "    high_col (str): Name of high price column\n",
    "    low_col (str): Name of low price column\n",
    "    volume_col (str): Name of volume column\n",
    "    \n",
    "    Returns:\n",
    "    pandas.DataFrame: Original data with additional technical indicators\n",
    "    \"\"\"\n",
    "    df = df.copy()\n",
    "    \n",
    "    # Trend Indicators\n",
    "    # Moving Averages\n",
    "    df['sma_5'] = df[close_col].rolling(window=5).mean()\n",
    "    df['sma_20'] = df[close_col].rolling(window=20).mean()\n",
    "    df['sma_50'] = df[close_col].rolling(window=50).mean()\n",
    "    \n",
    "    # Exponential Moving Average\n",
    "    df['ema_12'] = df[close_col].ewm(span=12, adjust=False).mean()\n",
    "    df['ema_26'] = df[close_col].ewm(span=26, adjust=False).mean()\n",
    "    \n",
    "    # MACD\n",
    "    df['macd'] = df['ema_12'] - df['ema_26']\n",
    "    df['macd_signal'] = df['macd'].ewm(span=9, adjust=False).mean()\n",
    "    df['macd_hist'] = df['macd'] - df['macd_signal']\n",
    "    \n",
    "    # Momentum Indicators\n",
    "    # Relative Strength Index (RSI)\n",
    "    delta = df[close_col].diff()\n",
    "    gain = (delta.where(delta > 0, 0)).rolling(window=14).mean()\n",
    "    loss = (-delta.where(delta < 0, 0)).rolling(window=14).mean()\n",
    "    rs = gain / loss\n",
    "    df['rsi'] = 100 - (100 / (1 + rs))\n",
    "    \n",
    "    # Stochastic Oscillator\n",
    "    lookback = 14\n",
    "    df['lowest_low'] = df[low_col].rolling(window=lookback).min()\n",
    "    df['highest_high'] = df[high_col].rolling(window=lookback).max()\n",
    "    df['stoch_k'] = 100 * (df[close_col] - df['lowest_low']) / (df['highest_high'] - df['lowest_low'])\n",
    "    df['stoch_d'] = df['stoch_k'].rolling(window=3).mean()\n",
    "    \n",
    "    # Volatility Indicators\n",
    "    # Bollinger Bands\n",
    "    df['bb_middle'] = df[close_col].rolling(window=20).mean()\n",
    "    df['bb_upper'] = df['bb_middle'] + 2 * df[close_col].rolling(window=20).std()\n",
    "    df['bb_lower'] = df['bb_middle'] - 2 * df[close_col].rolling(window=20).std()\n",
    "    \n",
    "    # Average True Range (ATR)\n",
    "    high_low = df[high_col] - df[low_col]\n",
    "    high_close = np.abs(df[high_col] - df[close_col].shift())\n",
    "    low_close = np.abs(df[low_col] - df[close_col].shift())\n",
    "    ranges = pd.concat([high_low, high_close, low_close], axis=1)\n",
    "    true_range = np.max(ranges, axis=1)\n",
    "    df['atr'] = true_range.rolling(14).mean()\n",
    "    \n",
    "    # Volume-based Indicators\n",
    "    # On-Balance Volume (OBV)\n",
    "    df['daily_ret'] = df[close_col].pct_change()\n",
    "    df['obv'] = np.where(df['daily_ret'] > 0, df[volume_col], \n",
    "                        np.where(df['daily_ret'] < 0, -df[volume_col], 0)).cumsum()\n",
    "    \n",
    "    # Volume-Weighted Average Price (VWAP)\n",
    "    df['vwap'] = (df[close_col] * df[volume_col]).cumsum() / df[volume_col].cumsum()\n",
    "    \n",
    "    # Price Rate of Change\n",
    "    df['roc_5'] = df[close_col].pct_change(periods=5) * 100\n",
    "    df['roc_20'] = df[close_col].pct_change(periods=20) * 100\n",
    "    \n",
    "    # Additional Derived Features\n",
    "    df['price_volatility'] = df[close_col].rolling(window=20).std()\n",
    "    df['volume_volatility'] = df[volume_col].rolling(window=20).std()\n",
    "    \n",
    "    return df"
   ]
  },
  {
   "cell_type": "markdown",
   "metadata": {},
   "source": [
    "## Join with features and sentiment"
   ]
  },
  {
   "cell_type": "code",
   "execution_count": 59,
   "metadata": {},
   "outputs": [
    {
     "name": "stderr",
     "output_type": "stream",
     "text": [
      "/var/folders/65/n8y22d1s4nj247nsd99lp98c0000gn/T/ipykernel_86054/1733198241.py:9: SettingWithCopyWarning: \n",
      "A value is trying to be set on a copy of a slice from a DataFrame\n",
      "\n",
      "See the caveats in the documentation: https://pandas.pydata.org/pandas-docs/stable/user_guide/indexing.html#returning-a-view-versus-a-copy\n",
      "  apple_df_gemini_sentiment.rename(columns={\"date_of_tweets\": \"Date\"}, inplace=True)\n"
     ]
    }
   ],
   "source": [
    "apple_df_features = pd.read_csv('price/raw_with_features/AAPL.csv')\n",
    "apple_df_prophet = pd.read_csv('price/raw_with_prophet/AAPL_prophet_predictions.csv')\n",
    "apple_df_llama_sentiment = pd.read_csv('sentiments/AAPL_sentiment.csv')\n",
    "apple_df_llama_sentiment.rename(columns={\"date_of_tweets\": \"Date\"}, inplace=True)\n",
    "\n",
    "gemini_sentiments = pd.read_csv('sentiments/gemini_sentiment_predictions_all.csv')\n",
    "\n",
    "apple_df_gemini_sentiment = gemini_sentiments[gemini_sentiments['ticker'] == 'AAPL']\n",
    "apple_df_gemini_sentiment.rename(columns={\"date_of_tweets\": \"Date\"}, inplace=True)\n",
    "\n",
    "apple_df_combined = apple_df_features.merge(apple_df_prophet[['Date', 'prophet_predicted_price']], on='Date', how='inner')\n",
    "apple_df_combined = apple_df_combined.merge(apple_df_llama_sentiment[['Date', 'prediction', 'confidence']].rename(\n",
    "        columns={'prediction': 'llama_sentiment', 'confidence': 'llama_sentiment_confidence'}\n",
    "    ), on='Date', how='inner')\n",
    "apple_df_combined = apple_df_combined.merge(apple_df_gemini_sentiment[['Date', 'prediction', 'confidence']].rename(\n",
    "        columns={'prediction': 'gemini_sentiment', 'confidence': 'gemini_sentiment_confidence'}\n",
    "    ), on='Date', how='inner')\n"
   ]
  },
  {
   "cell_type": "code",
   "execution_count": 61,
   "metadata": {},
   "outputs": [],
   "source": [
    "def create_df_with_features(ticker: str):\n",
    "    \"\"\"\n",
    "    Loads and combines data for a given ticker from various sources.\n",
    "\n",
    "    Parameters:\n",
    "    ticker (str): The stock ticker (e.g., \"AAPL\").\n",
    "\n",
    "    Returns:\n",
    "    pd.DataFrame: A combined DataFrame containing features, predictions, and sentiments.\n",
    "    \"\"\"\n",
    "    try:\n",
    "        # Define file paths\n",
    "        features_file = f'price/raw_with_features/{ticker}.csv'\n",
    "        prophet_file = f'price/raw_with_prophet/{ticker}_prophet_predictions.csv'\n",
    "        llama_sentiment_file = f'sentiments/{ticker}_sentiment.csv'\n",
    "        gemini_sentiment_file = 'sentiments/gemini_sentiment_predictions_all.csv'\n",
    "\n",
    "        # Check file existence\n",
    "        for file_path in [features_file, prophet_file, llama_sentiment_file, gemini_sentiment_file]:\n",
    "            if not os.path.exists(file_path):\n",
    "                raise FileNotFoundError(f\"File not found: {file_path}\")\n",
    "\n",
    "        # Load data\n",
    "        features_df = pd.read_csv(features_file)\n",
    "        prophet_df = pd.read_csv(prophet_file)\n",
    "        llama_sentiment_df = pd.read_csv(llama_sentiment_file)\n",
    "        gemini_sentiments_df = pd.read_csv(gemini_sentiment_file)\n",
    "\n",
    "        # Standardize column names for consistency\n",
    "        llama_sentiment_df.rename(columns={\"date_of_tweets\": \"Date\"}, inplace=True)\n",
    "        gemini_sentiment_df = gemini_sentiments_df[gemini_sentiments_df['ticker'] == ticker]\n",
    "        gemini_sentiment_df.rename(columns={\"date_of_tweets\": \"Date\"}, inplace=True)\n",
    "\n",
    "        # Merge datasets\n",
    "        combined_df = features_df.merge(\n",
    "            prophet_df[['Date', 'prophet_predicted_price']], on='Date', how='inner'\n",
    "        )\n",
    "        combined_df = combined_df.merge(\n",
    "            llama_sentiment_df[['Date', 'prediction', 'confidence']].rename(\n",
    "                columns={'prediction': 'llama_sentiment', 'confidence': 'llama_sentiment_confidence'}\n",
    "            ), on='Date', how='inner'\n",
    "        )\n",
    "        combined_df = combined_df.merge(\n",
    "            gemini_sentiment_df[['Date', 'prediction', 'confidence']].rename(\n",
    "                columns={'prediction': 'gemini_sentiment', 'confidence': 'gemini_sentiment_confidence'}\n",
    "            ), on='Date', how='inner'\n",
    "        )\n",
    "\n",
    "        return combined_df\n",
    "\n",
    "    except FileNotFoundError as e:\n",
    "        print(f\"Error: {e}\")\n",
    "        return pd.DataFrame()  # Return an empty DataFrame if files are missing\n",
    "    except Exception as e:\n",
    "        print(f\"An unexpected error occurred: {e}\")\n",
    "        return pd.DataFrame()  # Return an empty DataFrame on any other exception"
   ]
  },
  {
   "cell_type": "code",
   "execution_count": 63,
   "metadata": {},
   "outputs": [
    {
     "name": "stderr",
     "output_type": "stream",
     "text": [
      "/var/folders/65/n8y22d1s4nj247nsd99lp98c0000gn/T/ipykernel_86054/1319258881.py:32: SettingWithCopyWarning: \n",
      "A value is trying to be set on a copy of a slice from a DataFrame\n",
      "\n",
      "See the caveats in the documentation: https://pandas.pydata.org/pandas-docs/stable/user_guide/indexing.html#returning-a-view-versus-a-copy\n",
      "  gemini_sentiment_df.rename(columns={\"date_of_tweets\": \"Date\"}, inplace=True)\n",
      "/var/folders/65/n8y22d1s4nj247nsd99lp98c0000gn/T/ipykernel_86054/1319258881.py:32: SettingWithCopyWarning: \n",
      "A value is trying to be set on a copy of a slice from a DataFrame\n",
      "\n",
      "See the caveats in the documentation: https://pandas.pydata.org/pandas-docs/stable/user_guide/indexing.html#returning-a-view-versus-a-copy\n",
      "  gemini_sentiment_df.rename(columns={\"date_of_tweets\": \"Date\"}, inplace=True)\n",
      "/var/folders/65/n8y22d1s4nj247nsd99lp98c0000gn/T/ipykernel_86054/1319258881.py:32: SettingWithCopyWarning: \n",
      "A value is trying to be set on a copy of a slice from a DataFrame\n",
      "\n",
      "See the caveats in the documentation: https://pandas.pydata.org/pandas-docs/stable/user_guide/indexing.html#returning-a-view-versus-a-copy\n",
      "  gemini_sentiment_df.rename(columns={\"date_of_tweets\": \"Date\"}, inplace=True)\n",
      "/var/folders/65/n8y22d1s4nj247nsd99lp98c0000gn/T/ipykernel_86054/1319258881.py:32: SettingWithCopyWarning: \n",
      "A value is trying to be set on a copy of a slice from a DataFrame\n",
      "\n",
      "See the caveats in the documentation: https://pandas.pydata.org/pandas-docs/stable/user_guide/indexing.html#returning-a-view-versus-a-copy\n",
      "  gemini_sentiment_df.rename(columns={\"date_of_tweets\": \"Date\"}, inplace=True)\n",
      "/var/folders/65/n8y22d1s4nj247nsd99lp98c0000gn/T/ipykernel_86054/1319258881.py:32: SettingWithCopyWarning: \n",
      "A value is trying to be set on a copy of a slice from a DataFrame\n",
      "\n",
      "See the caveats in the documentation: https://pandas.pydata.org/pandas-docs/stable/user_guide/indexing.html#returning-a-view-versus-a-copy\n",
      "  gemini_sentiment_df.rename(columns={\"date_of_tweets\": \"Date\"}, inplace=True)\n"
     ]
    }
   ],
   "source": [
    "AAPL_combined_df = create_df_with_features(\"AAPL\")\n",
    "KO_combined_df = create_df_with_features(\"KO\")\n",
    "TSLA_combined_df = create_df_with_features(\"TSLA\")\n",
    "V_combined_df = create_df_with_features(\"V\")\n",
    "XOM_combined_df = create_df_with_features(\"XOM\")"
   ]
  },
  {
   "cell_type": "code",
   "execution_count": 64,
   "metadata": {},
   "outputs": [],
   "source": [
    "os.makedirs(\"data\", exist_ok=True)\n",
    "\n",
    "AAPL_combined_df.to_csv(\"data/AAPL_combined.csv\", index=False)\n",
    "KO_combined_df.to_csv(\"data/KO_combined.csv\", index=False)\n",
    "TSLA_combined_df.to_csv(\"data/TSLA_combined.csv\", index=False)\n",
    "V_combined_df.to_csv(\"data/V_combined.csv\", index=False)\n",
    "XOM_combined_df.to_csv(\"data/XOM_combined.csv\", index=False)"
   ]
  },
  {
   "cell_type": "code",
   "execution_count": 75,
   "metadata": {},
   "outputs": [
    {
     "data": {
      "text/plain": [
       "0       75.087502\n",
       "1       74.357498\n",
       "2       74.949997\n",
       "3       74.597504\n",
       "4       75.797501\n",
       "          ...    \n",
       "747    132.369995\n",
       "748    132.300003\n",
       "749    135.449997\n",
       "750    132.229996\n",
       "751    131.860001\n",
       "Name: Close, Length: 752, dtype: float64"
      ]
     },
     "execution_count": 75,
     "metadata": {},
     "output_type": "execute_result"
    }
   ],
   "source": [
    "AAPL_combined_df['Close'].isna()    "
   ]
  },
  {
   "cell_type": "markdown",
   "metadata": {},
   "source": [
    "## Train Test Split"
   ]
  },
  {
   "cell_type": "code",
   "execution_count": 71,
   "metadata": {},
   "outputs": [],
   "source": [
    "from sklearn.model_selection import TimeSeriesSplit"
   ]
  },
  {
   "cell_type": "code",
   "execution_count": 85,
   "metadata": {},
   "outputs": [],
   "source": [
    "def save_timeseries_splits(data, ticker, n_splits=5):\n",
    "    \"\"\"\n",
    "    Performs Time Series Split on the training part of data, reserves last 30% of data as a test set.\n",
    "    \n",
    "    Args:\n",
    "        data: DataFrame with features and target for time-series analysis\n",
    "        ticker: The stock ticker name to organize data into its own folder\n",
    "        n_splits: Number of splits for TimeSeriesSplit\n",
    "    \"\"\"\n",
    "    \n",
    "    # Determine the split for training-validation and test set\n",
    "    test_size = int(len(data) * 0.3)  # Reserve last 30% for testing\n",
    "    train_val_data = data.iloc[:-test_size]  # First 70% for training-validation\n",
    "    test_data = data.iloc[-test_size:]  # Last 30% for testing\n",
    "\n",
    "    # Set up time-series split\n",
    "    tscv = TimeSeriesSplit(n_splits=n_splits)\n",
    "\n",
    "    # Directory to save splits\n",
    "    split_dir = os.path.join('data_split', ticker)\n",
    "    os.makedirs(split_dir, exist_ok=True)\n",
    "\n",
    "    # Perform splits\n",
    "    for i, (train_index, val_index) in enumerate(tscv.split(train_val_data), 1):\n",
    "        # Split the data\n",
    "        train_df = train_val_data.iloc[train_index]\n",
    "        val_df = train_val_data.iloc[val_index]\n",
    "\n",
    "        # Save training and validation split\n",
    "        split_subdir = os.path.join(split_dir, f\"split_{i:02d}\")\n",
    "        os.makedirs(split_subdir, exist_ok=True)\n",
    "        \n",
    "        train_df.to_csv(os.path.join(split_subdir, 'train.csv'), index=False)\n",
    "        val_df.to_csv(os.path.join(split_subdir, 'val.csv'), index=False)\n",
    "\n",
    "        print(f\"Saved split {i} for {ticker} at {split_subdir}\")\n",
    "    \n",
    "    # Save the test set\n",
    "    test_data_dir = os.path.join(split_dir, \"test\")\n",
    "    os.makedirs(test_data_dir, exist_ok=True)\n",
    "    test_data.to_csv(os.path.join(test_data_dir, 'test.csv'), index=False)\n",
    "    print(f\"Saved test set for {ticker} at {test_data_dir}\")"
   ]
  },
  {
   "cell_type": "code",
   "execution_count": 86,
   "metadata": {},
   "outputs": [
    {
     "name": "stdout",
     "output_type": "stream",
     "text": [
      "Saved split 1 for AAPL at data_split/AAPL/split_01\n",
      "Saved split 2 for AAPL at data_split/AAPL/split_02\n",
      "Saved split 3 for AAPL at data_split/AAPL/split_03\n",
      "Saved split 4 for AAPL at data_split/AAPL/split_04\n",
      "Saved split 5 for AAPL at data_split/AAPL/split_05\n",
      "Saved test set for AAPL at data_split/AAPL/test\n",
      "Saved split 1 for KO at data_split/KO/split_01\n",
      "Saved split 2 for KO at data_split/KO/split_02\n",
      "Saved split 3 for KO at data_split/KO/split_03\n",
      "Saved split 4 for KO at data_split/KO/split_04\n",
      "Saved split 5 for KO at data_split/KO/split_05\n",
      "Saved test set for KO at data_split/KO/test\n",
      "Saved split 1 for TSLA at data_split/TSLA/split_01\n",
      "Saved split 2 for TSLA at data_split/TSLA/split_02\n",
      "Saved split 3 for TSLA at data_split/TSLA/split_03\n",
      "Saved split 4 for TSLA at data_split/TSLA/split_04\n",
      "Saved split 5 for TSLA at data_split/TSLA/split_05\n",
      "Saved test set for TSLA at data_split/TSLA/test\n",
      "Saved split 1 for V at data_split/V/split_01\n",
      "Saved split 2 for V at data_split/V/split_02\n",
      "Saved split 3 for V at data_split/V/split_03\n",
      "Saved split 4 for V at data_split/V/split_04\n",
      "Saved split 5 for V at data_split/V/split_05\n",
      "Saved test set for V at data_split/V/test\n",
      "Saved split 1 for XOM at data_split/XOM/split_01\n",
      "Saved split 2 for XOM at data_split/XOM/split_02\n",
      "Saved split 3 for XOM at data_split/XOM/split_03\n",
      "Saved split 4 for XOM at data_split/XOM/split_04\n",
      "Saved split 5 for XOM at data_split/XOM/split_05\n",
      "Saved test set for XOM at data_split/XOM/test\n"
     ]
    }
   ],
   "source": [
    "tickers = ['AAPL', 'KO', 'TSLA', 'V', 'XOM']\n",
    "n_splits = 5\n",
    "\n",
    "for ticker in tickers:\n",
    "    file_path = f\"data/{ticker}_combined.csv\"\n",
    "    if os.path.exists(file_path):\n",
    "        data = pd.read_csv(file_path)\n",
    "        save_timeseries_splits(data, ticker, n_splits)\n",
    "    else:\n",
    "        print(f\"File {file_path} not found.\")"
   ]
  }
 ],
 "metadata": {
  "kernelspec": {
   "display_name": "base",
   "language": "python",
   "name": "python3"
  },
  "language_info": {
   "codemirror_mode": {
    "name": "ipython",
    "version": 3
   },
   "file_extension": ".py",
   "mimetype": "text/x-python",
   "name": "python",
   "nbconvert_exporter": "python",
   "pygments_lexer": "ipython3",
   "version": "3.12.4"
  }
 },
 "nbformat": 4,
 "nbformat_minor": 2
}
